{
  "nbformat": 4,
  "nbformat_minor": 0,
  "metadata": {
    "colab": {
      "name": "SuicideIdeation",
      "provenance": [],
      "collapsed_sections": [],
      "authorship_tag": "ABX9TyM0nToO6xe7H5Zq/EWjI3jh",
      "include_colab_link": true
    },
    "kernelspec": {
      "name": "python3",
      "display_name": "Python 3"
    },
    "accelerator": "GPU"
  },
  "cells": [
    {
      "cell_type": "markdown",
      "metadata": {
        "id": "view-in-github",
        "colab_type": "text"
      },
      "source": [
        "<a href=\"https://colab.research.google.com/github/shvms/Suicide_pred/blob/master/SuicideIdeation.ipynb\" target=\"_parent\"><img src=\"https://colab.research.google.com/assets/colab-badge.svg\" alt=\"Open In Colab\"/></a>"
      ]
    },
    {
      "cell_type": "code",
      "metadata": {
        "id": "_cfIe1h6VcU3",
        "colab_type": "code",
        "colab": {}
      },
      "source": [
        "import re\n",
        "import json\n",
        "import csv\n",
        "import numpy\n",
        "from matplotlib import pyplot as plt\n",
        "import numpy as np"
      ],
      "execution_count": 0,
      "outputs": []
    },
    {
      "cell_type": "code",
      "metadata": {
        "id": "gYnzHP2R_VC4",
        "colab_type": "code",
        "colab": {}
      },
      "source": [
        "# helper function\n",
        "# to condense three or more repetitive letters into one\n",
        "def condense(text, rep_size=3):\n",
        "  \"\"\"\n",
        "  text: string data to filter\n",
        "  rep_size: >= repetitive letters\n",
        "  \"\"\"\n",
        "  return re.sub('(.)\\\\1{'+ str(rep_size-1) +',}', r'\\1', text)"
      ],
      "execution_count": 0,
      "outputs": []
    },
    {
      "cell_type": "code",
      "metadata": {
        "id": "6SSdp44anJH-",
        "colab_type": "code",
        "colab": {}
      },
      "source": [
        "# helper function to plot graphs\n",
        "def plot_graphs(history, metric):\n",
        "  plt.plot(history.history[f'{metric}'])\n",
        "  plt.plot(history.history[f'val_{metric}'])\n",
        "  plt.xlabel('#Epochs')\n",
        "  plt.ylabel(metric)\n",
        "  plt.legend([metric, f'val_{metric}'])\n",
        "  plt.show()"
      ],
      "execution_count": 0,
      "outputs": []
    },
    {
      "cell_type": "code",
      "metadata": {
        "id": "EnV8-ki6nwuK",
        "colab_type": "code",
        "outputId": "74ec5255-6046-4aaa-c327-bcc2dd966912",
        "colab": {
          "base_uri": "https://localhost:8080/",
          "height": 760
        }
      },
      "source": [
        "!pip install tensorflow===1.15.0"
      ],
      "execution_count": 0,
      "outputs": [
        {
          "output_type": "stream",
          "text": [
            "Collecting tensorflow===1.15.0\n",
            "\u001b[?25l  Downloading https://files.pythonhosted.org/packages/3f/98/5a99af92fb911d7a88a0005ad55005f35b4c1ba8d75fba02df726cd936e6/tensorflow-1.15.0-cp36-cp36m-manylinux2010_x86_64.whl (412.3MB)\n",
            "\u001b[K     |████████████████████████████████| 412.3MB 27kB/s \n",
            "\u001b[?25hRequirement already satisfied: termcolor>=1.1.0 in /usr/local/lib/python3.6/dist-packages (from tensorflow===1.15.0) (1.1.0)\n",
            "Requirement already satisfied: keras-preprocessing>=1.0.5 in /usr/local/lib/python3.6/dist-packages (from tensorflow===1.15.0) (1.1.0)\n",
            "Requirement already satisfied: six>=1.10.0 in /usr/local/lib/python3.6/dist-packages (from tensorflow===1.15.0) (1.12.0)\n",
            "Requirement already satisfied: wrapt>=1.11.1 in /usr/local/lib/python3.6/dist-packages (from tensorflow===1.15.0) (1.11.2)\n",
            "Requirement already satisfied: grpcio>=1.8.6 in /usr/local/lib/python3.6/dist-packages (from tensorflow===1.15.0) (1.15.0)\n",
            "Requirement already satisfied: opt-einsum>=2.3.2 in /usr/local/lib/python3.6/dist-packages (from tensorflow===1.15.0) (3.1.0)\n",
            "Requirement already satisfied: numpy<2.0,>=1.16.0 in /usr/local/lib/python3.6/dist-packages (from tensorflow===1.15.0) (1.17.5)\n",
            "Requirement already satisfied: keras-applications>=1.0.8 in /usr/local/lib/python3.6/dist-packages (from tensorflow===1.15.0) (1.0.8)\n",
            "Requirement already satisfied: absl-py>=0.7.0 in /usr/local/lib/python3.6/dist-packages (from tensorflow===1.15.0) (0.9.0)\n",
            "Requirement already satisfied: google-pasta>=0.1.6 in /usr/local/lib/python3.6/dist-packages (from tensorflow===1.15.0) (0.1.8)\n",
            "Collecting tensorflow-estimator==1.15.1\n",
            "\u001b[?25l  Downloading https://files.pythonhosted.org/packages/de/62/2ee9cd74c9fa2fa450877847ba560b260f5d0fb70ee0595203082dafcc9d/tensorflow_estimator-1.15.1-py2.py3-none-any.whl (503kB)\n",
            "\u001b[K     |████████████████████████████████| 512kB 45.3MB/s \n",
            "\u001b[?25hCollecting tensorboard<1.16.0,>=1.15.0\n",
            "\u001b[?25l  Downloading https://files.pythonhosted.org/packages/1e/e9/d3d747a97f7188f48aa5eda486907f3b345cd409f0a0850468ba867db246/tensorboard-1.15.0-py3-none-any.whl (3.8MB)\n",
            "\u001b[K     |████████████████████████████████| 3.8MB 50.5MB/s \n",
            "\u001b[?25hRequirement already satisfied: wheel>=0.26 in /usr/local/lib/python3.6/dist-packages (from tensorflow===1.15.0) (0.34.2)\n",
            "Requirement already satisfied: protobuf>=3.6.1 in /usr/local/lib/python3.6/dist-packages (from tensorflow===1.15.0) (3.10.0)\n",
            "Requirement already satisfied: astor>=0.6.0 in /usr/local/lib/python3.6/dist-packages (from tensorflow===1.15.0) (0.8.1)\n",
            "Requirement already satisfied: gast==0.2.2 in /usr/local/lib/python3.6/dist-packages (from tensorflow===1.15.0) (0.2.2)\n",
            "Requirement already satisfied: h5py in /usr/local/lib/python3.6/dist-packages (from keras-applications>=1.0.8->tensorflow===1.15.0) (2.8.0)\n",
            "Requirement already satisfied: markdown>=2.6.8 in /usr/local/lib/python3.6/dist-packages (from tensorboard<1.16.0,>=1.15.0->tensorflow===1.15.0) (3.1.1)\n",
            "Requirement already satisfied: setuptools>=41.0.0 in /usr/local/lib/python3.6/dist-packages (from tensorboard<1.16.0,>=1.15.0->tensorflow===1.15.0) (45.1.0)\n",
            "Requirement already satisfied: werkzeug>=0.11.15 in /usr/local/lib/python3.6/dist-packages (from tensorboard<1.16.0,>=1.15.0->tensorflow===1.15.0) (0.16.1)\n",
            "Installing collected packages: tensorflow-estimator, tensorboard, tensorflow\n",
            "  Found existing installation: tensorflow-estimator 2.0.1\n",
            "    Uninstalling tensorflow-estimator-2.0.1:\n",
            "      Successfully uninstalled tensorflow-estimator-2.0.1\n",
            "  Found existing installation: tensorboard 2.0.2\n",
            "    Uninstalling tensorboard-2.0.2:\n",
            "      Successfully uninstalled tensorboard-2.0.2\n",
            "  Found existing installation: tensorflow 2.0.0\n",
            "    Uninstalling tensorflow-2.0.0:\n",
            "      Successfully uninstalled tensorflow-2.0.0\n",
            "Successfully installed tensorboard-1.15.0 tensorflow-1.15.0 tensorflow-estimator-1.15.1\n"
          ],
          "name": "stdout"
        },
        {
          "output_type": "display_data",
          "data": {
            "application/vnd.colab-display-data+json": {
              "pip_warning": {
                "packages": [
                  "tensorboard",
                  "tensorflow",
                  "tensorflow_core",
                  "tensorflow_estimator"
                ]
              }
            }
          },
          "metadata": {
            "tags": []
          }
        }
      ]
    },
    {
      "cell_type": "code",
      "metadata": {
        "id": "Y8JRDZz6XYfC",
        "colab_type": "code",
        "outputId": "af8486a3-3b67-4c98-9947-217c7c8b0ad6",
        "colab": {
          "base_uri": "https://localhost:8080/",
          "height": 79
        }
      },
      "source": [
        "from sklearn.metrics import classification_report\n",
        "import tensorflow as tf\n",
        "import keras\n",
        "from tensorflow.keras.preprocessing.text import Tokenizer\n",
        "from tensorflow.keras.preprocessing.sequence import pad_sequences"
      ],
      "execution_count": 0,
      "outputs": [
        {
          "output_type": "display_data",
          "data": {
            "text/html": [
              "<p style=\"color: red;\">\n",
              "The default version of TensorFlow in Colab will soon switch to TensorFlow 2.x.<br>\n",
              "We recommend you <a href=\"https://www.tensorflow.org/guide/migrate\" target=\"_blank\">upgrade</a> now \n",
              "or ensure your notebook will continue to use TensorFlow 1.x via the <code>%tensorflow_version 1.x</code> magic:\n",
              "<a href=\"https://colab.research.google.com/notebooks/tensorflow_version.ipynb\" target=\"_blank\">more info</a>.</p>\n"
            ],
            "text/plain": [
              "<IPython.core.display.HTML object>"
            ]
          },
          "metadata": {
            "tags": []
          }
        },
        {
          "output_type": "stream",
          "text": [
            "Using TensorFlow backend.\n"
          ],
          "name": "stderr"
        }
      ]
    },
    {
      "cell_type": "code",
      "metadata": {
        "id": "pJnnndEqnqCw",
        "colab_type": "code",
        "outputId": "1c64fc37-5c75-44c3-82ab-5dbceb2621b4",
        "colab": {
          "base_uri": "https://localhost:8080/",
          "height": 34
        }
      },
      "source": [
        "print(tf.__version__)"
      ],
      "execution_count": 0,
      "outputs": [
        {
          "output_type": "stream",
          "text": [
            "1.15.0\n"
          ],
          "name": "stdout"
        }
      ]
    },
    {
      "cell_type": "code",
      "metadata": {
        "id": "bZboKhZ5lUpu",
        "colab_type": "code",
        "colab": {}
      },
      "source": [
        "tf.compat.v1.disable_eager_execution()"
      ],
      "execution_count": 0,
      "outputs": []
    },
    {
      "cell_type": "code",
      "metadata": {
        "id": "REyoxZ8BaD1j",
        "colab_type": "code",
        "colab": {}
      },
      "source": [
        "with open('/tmp/stopwords.txt', 'r', encoding='utf-8') as file:\n",
        "  stopwords = file.readlines()\n",
        "stopwords = [line.strip() for line in stopwords]"
      ],
      "execution_count": 0,
      "outputs": []
    },
    {
      "cell_type": "code",
      "metadata": {
        "id": "SWUfWfQqarym",
        "colab_type": "code",
        "outputId": "b5eba532-5606-48a9-8f30-c7432cbb88c5",
        "colab": {
          "base_uri": "https://localhost:8080/",
          "height": 50
        }
      },
      "source": [
        "print(f\"Total stopwords: {len(stopwords)}\")\n",
        "print(stopwords[:20])"
      ],
      "execution_count": 0,
      "outputs": [
        {
          "output_type": "stream",
          "text": [
            "Total stopwords: 823\n",
            "['x', 'y', 'your', 'yours', 'yourself', 'yourselves', 'you', 'yond', 'yonder', 'yon', 'ye', 'yet', 'z', 'zillion', 'j', 'u', 'umpteen', 'usually', 'us', 'username']\n"
          ],
          "name": "stdout"
        }
      ]
    },
    {
      "cell_type": "code",
      "metadata": {
        "id": "Tb4A9lmAayfz",
        "colab_type": "code",
        "colab": {}
      },
      "source": [
        "# hyperparameters\n",
        "vocab_size = 1000\n",
        "embedding_dim = 300\n",
        "max_length = 150\n",
        "trunc_type = 'post'\n",
        "padding_type = 'post'\n",
        "oov_tok = '<oov>'\n",
        "training_portion = .8"
      ],
      "execution_count": 0,
      "outputs": []
    },
    {
      "cell_type": "code",
      "metadata": {
        "id": "OcYApDQvbiWj",
        "colab_type": "code",
        "outputId": "df703b4a-fbd3-4352-d731-65799280752b",
        "colab": {
          "base_uri": "https://localhost:8080/",
          "height": 67
        }
      },
      "source": [
        "sentences, labels = list(), list()\n",
        "with open('/tmp/finalcsv.csv', 'r', encoding='utf-8') as csvfile:\n",
        "  reader = csv.DictReader(csvfile)\n",
        "  for row in reader:\n",
        "    sentences.append(row['posts/post'])\n",
        "    labels.append(row['posts/intent'])\n",
        "\n",
        "labels = list(map(int, labels))\n",
        "\n",
        "print(f\"Total dataset: {len(sentences)}\")\n",
        "print(f\"Total suicidal intent posts: {sum(labels)}\")\n",
        "print(f\"Total non-suicidal intent posts: {len(labels)-sum(labels)}\")"
      ],
      "execution_count": 0,
      "outputs": [
        {
          "output_type": "stream",
          "text": [
            "Total dataset: 695\n",
            "Total suicidal intent posts: 341\n",
            "Total non-suicidal intent posts: 354\n"
          ],
          "name": "stdout"
        }
      ]
    },
    {
      "cell_type": "code",
      "metadata": {
        "id": "ik5yWfG5b1uw",
        "colab_type": "code",
        "colab": {}
      },
      "source": [
        "train_sentences, train_labels = list(), list()\n",
        "test_sentences, test_labels = list(), list()\n",
        "\n",
        "train_size = int(len(sentences) * training_portion)\n",
        "\n",
        "train_sentences = sentences[:train_size]\n",
        "train_labels = labels[:train_size]\n",
        "\n",
        "test_sentences = sentences[train_size:]\n",
        "test_labels = labels[train_size:]"
      ],
      "execution_count": 0,
      "outputs": []
    },
    {
      "cell_type": "markdown",
      "metadata": {
        "id": "_N7pQwDthjXV",
        "colab_type": "text"
      },
      "source": [
        "# Remove Repeated Characters\n",
        "Characters repeated thrice or more can be removed, like *dieeeee* becomes *die*."
      ]
    },
    {
      "cell_type": "code",
      "metadata": {
        "id": "EnTRJbLGh7WF",
        "colab_type": "code",
        "colab": {}
      },
      "source": [
        "train_sentences = [condense(sentence) for sentence in train_sentences]\n",
        "test_sentences = [condense(sentence) for sentence in test_sentences]"
      ],
      "execution_count": 0,
      "outputs": []
    },
    {
      "cell_type": "markdown",
      "metadata": {
        "id": "OD6FCjHhDS2x",
        "colab_type": "text"
      },
      "source": [
        "# Final Text Preprocessing\n",
        "### Removing special characters & digits along with mixed words"
      ]
    },
    {
      "cell_type": "code",
      "metadata": {
        "id": "bWZldU_lDU03",
        "colab_type": "code",
        "colab": {}
      },
      "source": [
        "pat = r'([A-Za-z]+[\\d@]+[\\w@]*|[\\d@]+[A-Za-z]+[\\w@]*)'\n",
        "train_sentences = [re.sub(pat, '', sentence) for sentence in train_sentences]             # removing words like he12eoo00\n",
        "train_sentences = [re.sub(r'<!--?.*?-->', '', sentence) for sentence in train_sentences]  # removing html tags if available\n",
        "train_sentences = [re.sub(r'[\\W|\\d]+', ' ', sentence) for sentence in train_sentences]   # removing "
      ],
      "execution_count": 0,
      "outputs": []
    },
    {
      "cell_type": "markdown",
      "metadata": {
        "id": "4v5FLABsidLa",
        "colab_type": "text"
      },
      "source": [
        "# Preprocessing"
      ]
    },
    {
      "cell_type": "code",
      "metadata": {
        "id": "GPNLeJAViZAj",
        "colab_type": "code",
        "colab": {}
      },
      "source": [
        "tokenizer = Tokenizer(num_words=vocab_size, oov_token=oov_tok)\n",
        "\n",
        "tokenizer.fit_on_texts(train_sentences)\n",
        "word_index = tokenizer.word_index\n",
        "\n",
        "train_sequences = tokenizer.texts_to_sequences(train_sentences)\n",
        "train_padded_sequences = pad_sequences(train_sequences, maxlen=max_length,\n",
        "  padding=padding_type, truncating=trunc_type)"
      ],
      "execution_count": 0,
      "outputs": []
    },
    {
      "cell_type": "code",
      "metadata": {
        "id": "blgjG3iU2ou3",
        "colab_type": "code",
        "colab": {}
      },
      "source": [
        "with open('/tmp/word_index.json', 'w') as file:\n",
        "  json.dump(word_index, file)"
      ],
      "execution_count": 0,
      "outputs": []
    },
    {
      "cell_type": "code",
      "metadata": {
        "id": "1-dtfFvB3H9L",
        "colab_type": "code",
        "outputId": "42156ec9-4d63-4147-c38e-f78da8179361",
        "colab": {
          "base_uri": "https://localhost:8080/",
          "height": 255
        }
      },
      "source": [
        "print(train_sequences[0])\n",
        "print(len(train_sequences[0]))\n",
        "print(train_padded_sequences[0])\n",
        "print(len(train_padded_sequences[0]))\n",
        "print(type(train_padded_sequences[0]))"
      ],
      "execution_count": 0,
      "outputs": [
        {
          "output_type": "stream",
          "text": [
            "[2, 184, 1, 11, 452, 36, 76, 281, 68, 36, 19, 619, 2, 24, 197, 2, 184, 2, 24, 197, 7, 208, 50, 2, 24, 668, 19, 72, 23, 7, 1, 1, 60, 6, 1, 2, 54, 119, 46, 7, 342, 9, 7, 1, 17, 8, 75, 85, 46, 19, 83, 694, 240, 7, 91, 2, 24, 343, 2, 184, 64, 3, 299, 1, 13, 5, 832, 6, 93, 59, 883, 17, 2, 77, 52, 478, 1, 350, 11, 49, 2, 24, 78, 145, 35, 1, 8, 45]\n",
            "88\n",
            "[  2 184   1  11 452  36  76 281  68  36  19 619   2  24 197   2 184   2\n",
            "  24 197   7 208  50   2  24 668  19  72  23   7   1   1  60   6   1   2\n",
            "  54 119  46   7 342   9   7   1  17   8  75  85  46  19  83 694 240   7\n",
            "  91   2  24 343   2 184  64   3 299   1  13   5 832   6  93  59 883  17\n",
            "   2  77  52 478   1 350  11  49   2  24  78 145  35   1   8  45   0   0\n",
            "   0   0   0   0   0   0   0   0   0   0   0   0   0   0   0   0   0   0\n",
            "   0   0   0   0   0   0   0   0   0   0   0   0   0   0   0   0   0   0\n",
            "   0   0   0   0   0   0   0   0   0   0   0   0   0   0   0   0   0   0\n",
            "   0   0   0   0   0   0]\n",
            "150\n",
            "<class 'numpy.ndarray'>\n"
          ],
          "name": "stdout"
        }
      ]
    },
    {
      "cell_type": "code",
      "metadata": {
        "id": "nVTeCu9x_okT",
        "colab_type": "code",
        "outputId": "74c96a77-2906-436d-8d9a-97f2f337866e",
        "colab": {
          "base_uri": "https://localhost:8080/",
          "height": 54
        }
      },
      "source": [
        "train_sentences[0]"
      ],
      "execution_count": 0,
      "outputs": [
        {
          "output_type": "execute_result",
          "data": {
            "text/plain": [
              "'i cry everydayIs that normal Do more depressed people do this Whenever I m alone I cry I m alone a lot As i m writing this there s a tear rolling from my cheek I ve always been a bit of a crybaby but it has never been this much Multiple times a day I m crying I cry myself to sleep everynight In the beginning my family would notice but I think they stopped bothering Either that or I m really good at covering it up '"
            ]
          },
          "metadata": {
            "tags": []
          },
          "execution_count": 50
        }
      ]
    },
    {
      "cell_type": "code",
      "metadata": {
        "id": "81A2nCcbjyvr",
        "colab_type": "code",
        "colab": {}
      },
      "source": [
        "test_sequences = tokenizer.texts_to_sequences(test_sentences)\n",
        "test_padded_sequences = pad_sequences(test_sequences, maxlen=max_length,\n",
        "  padding=padding_type, truncating=trunc_type)"
      ],
      "execution_count": 0,
      "outputs": []
    },
    {
      "cell_type": "code",
      "metadata": {
        "id": "kudFtXDZkTOG",
        "colab_type": "code",
        "colab": {}
      },
      "source": [
        "train_labels = np.array(train_labels)\n",
        "test_labels = np.array(test_labels)"
      ],
      "execution_count": 0,
      "outputs": []
    },
    {
      "cell_type": "markdown",
      "metadata": {
        "id": "ODRL8ZyAklGR",
        "colab_type": "text"
      },
      "source": [
        "# 1. Word2Vec Only Model"
      ]
    },
    {
      "cell_type": "code",
      "metadata": {
        "id": "Z2tnsg7Dlzgn",
        "colab_type": "code",
        "colab": {}
      },
      "source": [
        "# hyperparameters\n",
        "embedding_dim_1 = 300\n",
        "dense1 = 24\n",
        "dense2 = 1"
      ],
      "execution_count": 0,
      "outputs": []
    },
    {
      "cell_type": "code",
      "metadata": {
        "id": "BtZ_ntiRlMKb",
        "colab_type": "code",
        "outputId": "d6c65188-b05f-4520-9820-294d40aa46ce",
        "colab": {
          "base_uri": "https://localhost:8080/",
          "height": 541
        }
      },
      "source": [
        "# setting up\n",
        "model1 = keras.models.Sequential([\n",
        "  keras.layers.Embedding(vocab_size, embedding_dim_1, input_length=max_length),\n",
        "  keras.layers.GlobalAveragePooling1D(),\n",
        "  keras.layers.Dense(dense1, activation='relu'),\n",
        "  keras.layers.Dense(1, activation='sigmoid')\n",
        "])\n",
        "model1.compile(loss='binary_crossentropy', optimizer='rmsprop', metrics=['accuracy'])\n",
        "print(model1.summary())"
      ],
      "execution_count": 0,
      "outputs": [
        {
          "output_type": "stream",
          "text": [
            "WARNING:tensorflow:From /usr/local/lib/python3.6/dist-packages/keras/backend/tensorflow_backend.py:66: The name tf.get_default_graph is deprecated. Please use tf.compat.v1.get_default_graph instead.\n",
            "\n",
            "WARNING:tensorflow:From /usr/local/lib/python3.6/dist-packages/keras/backend/tensorflow_backend.py:541: The name tf.placeholder is deprecated. Please use tf.compat.v1.placeholder instead.\n",
            "\n",
            "WARNING:tensorflow:From /usr/local/lib/python3.6/dist-packages/keras/backend/tensorflow_backend.py:4432: The name tf.random_uniform is deprecated. Please use tf.random.uniform instead.\n",
            "\n",
            "WARNING:tensorflow:From /usr/local/lib/python3.6/dist-packages/keras/optimizers.py:793: The name tf.train.Optimizer is deprecated. Please use tf.compat.v1.train.Optimizer instead.\n",
            "\n",
            "WARNING:tensorflow:From /usr/local/lib/python3.6/dist-packages/keras/backend/tensorflow_backend.py:3657: The name tf.log is deprecated. Please use tf.math.log instead.\n",
            "\n",
            "WARNING:tensorflow:From /usr/local/lib/python3.6/dist-packages/tensorflow_core/python/ops/nn_impl.py:183: where (from tensorflow.python.ops.array_ops) is deprecated and will be removed in a future version.\n",
            "Instructions for updating:\n",
            "Use tf.where in 2.0, which has the same broadcast rule as np.where\n",
            "Model: \"sequential_1\"\n",
            "_________________________________________________________________\n",
            "Layer (type)                 Output Shape              Param #   \n",
            "=================================================================\n",
            "embedding_1 (Embedding)      (None, 120, 300)          300000    \n",
            "_________________________________________________________________\n",
            "global_average_pooling1d_1 ( (None, 300)               0         \n",
            "_________________________________________________________________\n",
            "dense_1 (Dense)              (None, 24)                7224      \n",
            "_________________________________________________________________\n",
            "dense_2 (Dense)              (None, 1)                 25        \n",
            "=================================================================\n",
            "Total params: 307,249\n",
            "Trainable params: 307,249\n",
            "Non-trainable params: 0\n",
            "_________________________________________________________________\n",
            "None\n"
          ],
          "name": "stdout"
        }
      ]
    },
    {
      "cell_type": "code",
      "metadata": {
        "id": "1F3Qz8BVmlbM",
        "colab_type": "code",
        "outputId": "cb253e18-8d0f-413c-d00d-eb27606633d8",
        "colab": {
          "base_uri": "https://localhost:8080/",
          "height": 658
        }
      },
      "source": [
        "# training\n",
        "num_epochs = 10\n",
        "history1 = model1.fit(train_padded_sequences, train_labels, epochs=num_epochs,\n",
        "                    validation_data=(test_padded_sequences, test_labels))"
      ],
      "execution_count": 0,
      "outputs": [
        {
          "output_type": "stream",
          "text": [
            "WARNING:tensorflow:From /usr/local/lib/python3.6/dist-packages/keras/backend/tensorflow_backend.py:1033: The name tf.assign_add is deprecated. Please use tf.compat.v1.assign_add instead.\n",
            "\n",
            "WARNING:tensorflow:From /usr/local/lib/python3.6/dist-packages/keras/backend/tensorflow_backend.py:1020: The name tf.assign is deprecated. Please use tf.compat.v1.assign instead.\n",
            "\n",
            "WARNING:tensorflow:From /usr/local/lib/python3.6/dist-packages/keras/backend/tensorflow_backend.py:3005: The name tf.Session is deprecated. Please use tf.compat.v1.Session instead.\n",
            "\n",
            "Train on 556 samples, validate on 139 samples\n",
            "Epoch 1/10\n",
            "WARNING:tensorflow:From /usr/local/lib/python3.6/dist-packages/keras/backend/tensorflow_backend.py:190: The name tf.get_default_session is deprecated. Please use tf.compat.v1.get_default_session instead.\n",
            "\n",
            "WARNING:tensorflow:From /usr/local/lib/python3.6/dist-packages/keras/backend/tensorflow_backend.py:197: The name tf.ConfigProto is deprecated. Please use tf.compat.v1.ConfigProto instead.\n",
            "\n",
            "WARNING:tensorflow:From /usr/local/lib/python3.6/dist-packages/keras/backend/tensorflow_backend.py:207: The name tf.global_variables is deprecated. Please use tf.compat.v1.global_variables instead.\n",
            "\n",
            "WARNING:tensorflow:From /usr/local/lib/python3.6/dist-packages/keras/backend/tensorflow_backend.py:216: The name tf.is_variable_initialized is deprecated. Please use tf.compat.v1.is_variable_initialized instead.\n",
            "\n",
            "WARNING:tensorflow:From /usr/local/lib/python3.6/dist-packages/keras/backend/tensorflow_backend.py:223: The name tf.variables_initializer is deprecated. Please use tf.compat.v1.variables_initializer instead.\n",
            "\n",
            "556/556 [==============================] - 4s 6ms/step - loss: 0.6752 - acc: 0.6385 - val_loss: 0.6763 - val_acc: 0.6763\n",
            "Epoch 2/10\n",
            "556/556 [==============================] - 0s 138us/step - loss: 0.6335 - acc: 0.7446 - val_loss: 0.6514 - val_acc: 0.6978\n",
            "Epoch 3/10\n",
            "556/556 [==============================] - 0s 143us/step - loss: 0.5866 - acc: 0.7716 - val_loss: 0.6147 - val_acc: 0.7410\n",
            "Epoch 4/10\n",
            "556/556 [==============================] - 0s 140us/step - loss: 0.5412 - acc: 0.7788 - val_loss: 0.5924 - val_acc: 0.7266\n",
            "Epoch 5/10\n",
            "556/556 [==============================] - 0s 147us/step - loss: 0.4950 - acc: 0.8129 - val_loss: 0.5453 - val_acc: 0.7554\n",
            "Epoch 6/10\n",
            "556/556 [==============================] - 0s 142us/step - loss: 0.4533 - acc: 0.8327 - val_loss: 0.5348 - val_acc: 0.7194\n",
            "Epoch 7/10\n",
            "556/556 [==============================] - 0s 129us/step - loss: 0.4174 - acc: 0.8507 - val_loss: 0.5113 - val_acc: 0.7410\n",
            "Epoch 8/10\n",
            "556/556 [==============================] - 0s 163us/step - loss: 0.3866 - acc: 0.8579 - val_loss: 0.5136 - val_acc: 0.7266\n",
            "Epoch 9/10\n",
            "556/556 [==============================] - 0s 144us/step - loss: 0.3580 - acc: 0.8705 - val_loss: 0.4794 - val_acc: 0.7410\n",
            "Epoch 10/10\n",
            "556/556 [==============================] - 0s 124us/step - loss: 0.3308 - acc: 0.8867 - val_loss: 0.5286 - val_acc: 0.7194\n"
          ],
          "name": "stdout"
        }
      ]
    },
    {
      "cell_type": "code",
      "metadata": {
        "id": "L7iGfF8JnBVG",
        "colab_type": "code",
        "outputId": "8aad8146-33d9-4217-fa7f-be08fc44f54a",
        "colab": {
          "base_uri": "https://localhost:8080/",
          "height": 541
        }
      },
      "source": [
        "# Metrics analysis\n",
        "plot_graphs(history1, 'acc')\n",
        "plot_graphs(history1, 'loss')"
      ],
      "execution_count": 0,
      "outputs": [
        {
          "output_type": "display_data",
          "data": {
            "image/png": "[encoded data removed]",
            "text/plain": [
              "<Figure size 432x288 with 1 Axes>"
            ]
          },
          "metadata": {
            "tags": []
          }
        },
        {
          "output_type": "display_data",
          "data": {
            "image/png": "[encoded data removed]",
            "text/plain": [
              "<Figure size 432x288 with 1 Axes>"
            ]
          },
          "metadata": {
            "tags": []
          }
        }
      ]
    },
    {
      "cell_type": "markdown",
      "metadata": {
        "id": "d2YsunlEsRkx",
        "colab_type": "text"
      },
      "source": [
        "# 2. LSTM"
      ]
    },
    {
      "cell_type": "code",
      "metadata": {
        "id": "4tGYUFxEskRh",
        "colab_type": "code",
        "colab": {}
      },
      "source": [
        "# hyperparametes\n",
        "embedding_dim_2 = 64\n",
        "memory_units = 64\n",
        "dense_units = 32\n",
        "dropout_rate = 0.2"
      ],
      "execution_count": 0,
      "outputs": []
    },
    {
      "cell_type": "code",
      "metadata": {
        "id": "GWid8EzZr5LO",
        "colab_type": "code",
        "colab": {}
      },
      "source": [
        "class clbk(keras.callbacks.Callback):\n",
        "  def on_epoch_end(self, epoch, logs={}):\n",
        "    if (logs.get('val_acc') >= 0.8):\n",
        "      print(\"Achieved.\")\n",
        "      self.model.stop_training=True"
      ],
      "execution_count": 0,
      "outputs": []
    },
    {
      "cell_type": "code",
      "metadata": {
        "id": "aY-o5qJDsZnQ",
        "colab_type": "code",
        "outputId": "0946d5d7-b7ad-4658-e9e5-14c51cfd8853",
        "colab": {
          "base_uri": "https://localhost:8080/",
          "height": 336
        }
      },
      "source": [
        "model2 = keras.Sequential([\n",
        "  keras.layers.Embedding(vocab_size, embedding_dim_2, input_length=max_length),\n",
        "  keras.layers.LSTM(memory_units),\n",
        "  keras.layers.Dense(dense_units, activation='relu'),\n",
        "  keras.layers.Dropout(dropout_rate),\n",
        "  keras.layers.Dense(1, activation='sigmoid')\n",
        "])\n",
        "model2.compile(loss='binary_crossentropy', optimizer='adam', metrics=['accuracy'])\n",
        "print(model2.summary())"
      ],
      "execution_count": 0,
      "outputs": [
        {
          "output_type": "stream",
          "text": [
            "Model: \"sequential_2\"\n",
            "_________________________________________________________________\n",
            "Layer (type)                 Output Shape              Param #   \n",
            "=================================================================\n",
            "embedding_2 (Embedding)      (None, 150, 64)           64000     \n",
            "_________________________________________________________________\n",
            "lstm_2 (LSTM)                (None, 64)                33024     \n",
            "_________________________________________________________________\n",
            "dense_3 (Dense)              (None, 32)                2080      \n",
            "_________________________________________________________________\n",
            "dropout_2 (Dropout)          (None, 32)                0         \n",
            "_________________________________________________________________\n",
            "dense_4 (Dense)              (None, 1)                 33        \n",
            "=================================================================\n",
            "Total params: 99,137\n",
            "Trainable params: 99,137\n",
            "Non-trainable params: 0\n",
            "_________________________________________________________________\n",
            "None\n"
          ],
          "name": "stdout"
        }
      ]
    },
    {
      "cell_type": "code",
      "metadata": {
        "id": "giuzW11Mx0H0",
        "colab_type": "code",
        "outputId": "b80994d1-abcd-4068-ffb3-0ca62c908370",
        "colab": {
          "base_uri": "https://localhost:8080/",
          "height": 319
        }
      },
      "source": [
        "# training\n",
        "num_epochs = 30\n",
        "history2 = model2.fit(train_padded_sequences, train_labels, epochs=num_epochs,\n",
        "                    validation_data=(test_padded_sequences, test_labels), batch_size=64, callbacks=[clbk()])"
      ],
      "execution_count": 0,
      "outputs": [
        {
          "output_type": "stream",
          "text": [
            "Train on 556 samples, validate on 139 samples\n",
            "Epoch 1/30\n",
            "556/556 [==============================] - 3s 6ms/step - loss: 0.6905 - acc: 0.5162 - val_loss: 0.6943 - val_acc: 0.4748\n",
            "Epoch 2/30\n",
            "556/556 [==============================] - 3s 5ms/step - loss: 0.6816 - acc: 0.6277 - val_loss: 0.6991 - val_acc: 0.5468\n",
            "Epoch 3/30\n",
            "556/556 [==============================] - 3s 5ms/step - loss: 0.6696 - acc: 0.6331 - val_loss: 0.7079 - val_acc: 0.5683\n",
            "Epoch 4/30\n",
            "556/556 [==============================] - 3s 5ms/step - loss: 0.6531 - acc: 0.6655 - val_loss: 0.6904 - val_acc: 0.5683\n",
            "Epoch 5/30\n",
            "556/556 [==============================] - 3s 5ms/step - loss: 0.5960 - acc: 0.7014 - val_loss: 0.6616 - val_acc: 0.5971\n",
            "Epoch 6/30\n",
            "556/556 [==============================] - 3s 5ms/step - loss: 0.5707 - acc: 0.7464 - val_loss: 0.6655 - val_acc: 0.6259\n",
            "Epoch 7/30\n",
            "556/556 [==============================] - 3s 5ms/step - loss: 0.5158 - acc: 0.7500 - val_loss: 0.6095 - val_acc: 0.6475\n",
            "Epoch 8/30\n",
            "556/556 [==============================] - 3s 5ms/step - loss: 0.4454 - acc: 0.8112 - val_loss: 0.4803 - val_acc: 0.8058\n",
            "Achieved.\n"
          ],
          "name": "stdout"
        }
      ]
    },
    {
      "cell_type": "code",
      "metadata": {
        "id": "Ou8j9CFL1FRn",
        "colab_type": "code",
        "outputId": "cf94e78f-ea80-418f-ba10-227419c7e56a",
        "colab": {
          "base_uri": "https://localhost:8080/",
          "height": 541
        }
      },
      "source": [
        "# Metrics analysis\n",
        "plot_graphs(history2, 'acc')\n",
        "plot_graphs(history2, 'loss')"
      ],
      "execution_count": 0,
      "outputs": [
        {
          "output_type": "display_data",
          "data": {
            "image/png": "[encoded data removed]",
            "text/plain": [
              "<Figure size 432x288 with 1 Axes>"
            ]
          },
          "metadata": {
            "tags": []
          }
        },
        {
          "output_type": "display_data",
          "data": {
            "image/png": "[encoded data removed]",
            "text/plain": [
              "<Figure size 432x288 with 1 Axes>"
            ]
          },
          "metadata": {
            "tags": []
          }
        }
      ]
    },
    {
      "cell_type": "markdown",
      "metadata": {
        "id": "qNi9s5D-zpYO",
        "colab_type": "text"
      },
      "source": [
        "# Saving model"
      ]
    },
    {
      "cell_type": "code",
      "metadata": {
        "id": "dpjekhtwzon3",
        "colab_type": "code",
        "colab": {}
      },
      "source": [
        "import pickle"
      ],
      "execution_count": 0,
      "outputs": []
    },
    {
      "cell_type": "code",
      "metadata": {
        "id": "XMpbR364zuUp",
        "colab_type": "code",
        "outputId": "9d1a0cad-5c44-42d4-ff59-a645a68b842f",
        "colab": {
          "base_uri": "https://localhost:8080/",
          "height": 34
        }
      },
      "source": [
        "with open('lstm.model.json', 'w') as json_file:\n",
        "  json_file.write(model2.to_json())\n",
        "\n",
        "model2.save_weights('model.lstm.h5')\n",
        "print('Saved model to disk')"
      ],
      "execution_count": 0,
      "outputs": [
        {
          "output_type": "stream",
          "text": [
            "Saved model to disk\n"
          ],
          "name": "stdout"
        }
      ]
    },
    {
      "cell_type": "code",
      "metadata": {
        "id": "im-q-jehz3np",
        "colab_type": "code",
        "outputId": "665dea99-9f21-41de-bfb3-3435b3d57e73",
        "colab": {
          "base_uri": "https://localhost:8080/",
          "height": 340
        }
      },
      "source": [
        "converter = tf.lite.TFLiteConverter.from_keras_model_file('/tmp/model.lstm.h5')\n",
        "tfmodel = converter.convert()"
      ],
      "execution_count": 0,
      "outputs": [
        {
          "output_type": "error",
          "ename": "ValueError",
          "evalue": "ignored",
          "traceback": [
            "\u001b[0;31m---------------------------------------------------------------------------\u001b[0m",
            "\u001b[0;31mValueError\u001b[0m                                Traceback (most recent call last)",
            "\u001b[0;32m<ipython-input-128-ec7cfe2c9ffa>\u001b[0m in \u001b[0;36m<module>\u001b[0;34m()\u001b[0m\n\u001b[0;32m----> 1\u001b[0;31m \u001b[0mconverter\u001b[0m \u001b[0;34m=\u001b[0m \u001b[0mtf\u001b[0m\u001b[0;34m.\u001b[0m\u001b[0mlite\u001b[0m\u001b[0;34m.\u001b[0m\u001b[0mTFLiteConverter\u001b[0m\u001b[0;34m.\u001b[0m\u001b[0mfrom_keras_model_file\u001b[0m\u001b[0;34m(\u001b[0m\u001b[0;34m'/tmp/model.lstm.h5'\u001b[0m\u001b[0;34m)\u001b[0m\u001b[0;34m\u001b[0m\u001b[0;34m\u001b[0m\u001b[0m\n\u001b[0m\u001b[1;32m      2\u001b[0m \u001b[0mtfmodel\u001b[0m \u001b[0;34m=\u001b[0m \u001b[0mconverter\u001b[0m\u001b[0;34m.\u001b[0m\u001b[0mconvert\u001b[0m\u001b[0;34m(\u001b[0m\u001b[0;34m)\u001b[0m\u001b[0;34m\u001b[0m\u001b[0;34m\u001b[0m\u001b[0m\n",
            "\u001b[0;32m/usr/local/lib/python3.6/dist-packages/tensorflow_core/lite/python/lite.py\u001b[0m in \u001b[0;36mfrom_keras_model_file\u001b[0;34m(cls, model_file, input_arrays, input_shapes, output_arrays, custom_objects)\u001b[0m\n\u001b[1;32m    818\u001b[0m     \u001b[0m_keras\u001b[0m\u001b[0;34m.\u001b[0m\u001b[0mbackend\u001b[0m\u001b[0;34m.\u001b[0m\u001b[0mclear_session\u001b[0m\u001b[0;34m(\u001b[0m\u001b[0;34m)\u001b[0m\u001b[0;34m\u001b[0m\u001b[0;34m\u001b[0m\u001b[0m\n\u001b[1;32m    819\u001b[0m     \u001b[0m_keras\u001b[0m\u001b[0;34m.\u001b[0m\u001b[0mbackend\u001b[0m\u001b[0;34m.\u001b[0m\u001b[0mset_learning_phase\u001b[0m\u001b[0;34m(\u001b[0m\u001b[0;32mFalse\u001b[0m\u001b[0;34m)\u001b[0m\u001b[0;34m\u001b[0m\u001b[0;34m\u001b[0m\u001b[0m\n\u001b[0;32m--> 820\u001b[0;31m     \u001b[0mkeras_model\u001b[0m \u001b[0;34m=\u001b[0m \u001b[0m_keras\u001b[0m\u001b[0;34m.\u001b[0m\u001b[0mmodels\u001b[0m\u001b[0;34m.\u001b[0m\u001b[0mload_model\u001b[0m\u001b[0;34m(\u001b[0m\u001b[0mmodel_file\u001b[0m\u001b[0;34m,\u001b[0m \u001b[0mcustom_objects\u001b[0m\u001b[0;34m)\u001b[0m\u001b[0;34m\u001b[0m\u001b[0;34m\u001b[0m\u001b[0m\n\u001b[0m\u001b[1;32m    821\u001b[0m     \u001b[0msess\u001b[0m \u001b[0;34m=\u001b[0m \u001b[0m_keras\u001b[0m\u001b[0;34m.\u001b[0m\u001b[0mbackend\u001b[0m\u001b[0;34m.\u001b[0m\u001b[0mget_session\u001b[0m\u001b[0;34m(\u001b[0m\u001b[0;34m)\u001b[0m\u001b[0;34m\u001b[0m\u001b[0;34m\u001b[0m\u001b[0m\n\u001b[1;32m    822\u001b[0m \u001b[0;34m\u001b[0m\u001b[0m\n",
            "\u001b[0;32m/usr/local/lib/python3.6/dist-packages/tensorflow_core/python/keras/saving/save.py\u001b[0m in \u001b[0;36mload_model\u001b[0;34m(filepath, custom_objects, compile)\u001b[0m\n\u001b[1;32m    141\u001b[0m   if (h5py is not None and (\n\u001b[1;32m    142\u001b[0m       isinstance(filepath, h5py.File) or h5py.is_hdf5(filepath))):\n\u001b[0;32m--> 143\u001b[0;31m     \u001b[0;32mreturn\u001b[0m \u001b[0mhdf5_format\u001b[0m\u001b[0;34m.\u001b[0m\u001b[0mload_model_from_hdf5\u001b[0m\u001b[0;34m(\u001b[0m\u001b[0mfilepath\u001b[0m\u001b[0;34m,\u001b[0m \u001b[0mcustom_objects\u001b[0m\u001b[0;34m,\u001b[0m \u001b[0mcompile\u001b[0m\u001b[0;34m)\u001b[0m\u001b[0;34m\u001b[0m\u001b[0;34m\u001b[0m\u001b[0m\n\u001b[0m\u001b[1;32m    144\u001b[0m \u001b[0;34m\u001b[0m\u001b[0m\n\u001b[1;32m    145\u001b[0m   \u001b[0;32mif\u001b[0m \u001b[0misinstance\u001b[0m\u001b[0;34m(\u001b[0m\u001b[0mfilepath\u001b[0m\u001b[0;34m,\u001b[0m \u001b[0msix\u001b[0m\u001b[0;34m.\u001b[0m\u001b[0mstring_types\u001b[0m\u001b[0;34m)\u001b[0m\u001b[0;34m:\u001b[0m\u001b[0;34m\u001b[0m\u001b[0;34m\u001b[0m\u001b[0m\n",
            "\u001b[0;32m/usr/local/lib/python3.6/dist-packages/tensorflow_core/python/keras/saving/hdf5_format.py\u001b[0m in \u001b[0;36mload_model_from_hdf5\u001b[0;34m(filepath, custom_objects, compile)\u001b[0m\n\u001b[1;32m    157\u001b[0m     \u001b[0mmodel_config\u001b[0m \u001b[0;34m=\u001b[0m \u001b[0mf\u001b[0m\u001b[0;34m.\u001b[0m\u001b[0mattrs\u001b[0m\u001b[0;34m.\u001b[0m\u001b[0mget\u001b[0m\u001b[0;34m(\u001b[0m\u001b[0;34m'model_config'\u001b[0m\u001b[0;34m)\u001b[0m\u001b[0;34m\u001b[0m\u001b[0;34m\u001b[0m\u001b[0m\n\u001b[1;32m    158\u001b[0m     \u001b[0;32mif\u001b[0m \u001b[0mmodel_config\u001b[0m \u001b[0;32mis\u001b[0m \u001b[0;32mNone\u001b[0m\u001b[0;34m:\u001b[0m\u001b[0;34m\u001b[0m\u001b[0;34m\u001b[0m\u001b[0m\n\u001b[0;32m--> 159\u001b[0;31m       \u001b[0;32mraise\u001b[0m \u001b[0mValueError\u001b[0m\u001b[0;34m(\u001b[0m\u001b[0;34m'No model found in config file.'\u001b[0m\u001b[0;34m)\u001b[0m\u001b[0;34m\u001b[0m\u001b[0;34m\u001b[0m\u001b[0m\n\u001b[0m\u001b[1;32m    160\u001b[0m     \u001b[0mmodel_config\u001b[0m \u001b[0;34m=\u001b[0m \u001b[0mjson\u001b[0m\u001b[0;34m.\u001b[0m\u001b[0mloads\u001b[0m\u001b[0;34m(\u001b[0m\u001b[0mmodel_config\u001b[0m\u001b[0;34m.\u001b[0m\u001b[0mdecode\u001b[0m\u001b[0;34m(\u001b[0m\u001b[0;34m'utf-8'\u001b[0m\u001b[0;34m)\u001b[0m\u001b[0;34m)\u001b[0m\u001b[0;34m\u001b[0m\u001b[0;34m\u001b[0m\u001b[0m\n\u001b[1;32m    161\u001b[0m     model = model_config_lib.model_from_config(model_config,\n",
            "\u001b[0;31mValueError\u001b[0m: No model found in config file."
          ]
        }
      ]
    },
    {
      "cell_type": "code",
      "metadata": {
        "id": "qi_xFS7D2cZX",
        "colab_type": "code",
        "colab": {}
      },
      "source": [
        ""
      ],
      "execution_count": 0,
      "outputs": []
    },
    {
      "cell_type": "code",
      "metadata": {
        "id": "DwOr-nhM1qCv",
        "colab_type": "code",
        "colab": {}
      },
      "source": [
        ""
      ],
      "execution_count": 0,
      "outputs": []
    },
    {
      "cell_type": "markdown",
      "metadata": {
        "id": "o0GIibwr1Pbs",
        "colab_type": "text"
      },
      "source": [
        "# C-LSTM"
      ]
    },
    {
      "cell_type": "code",
      "metadata": {
        "id": "7pZFCLzg1S8X",
        "colab_type": "code",
        "colab": {}
      },
      "source": [
        "# hyperparameters\n",
        "memory_units = 128\n",
        "dense_units = 32\n",
        "dropout_rate = 0.2"
      ],
      "execution_count": 0,
      "outputs": []
    },
    {
      "cell_type": "code",
      "metadata": {
        "id": "WlEIA-vm1hEL",
        "colab_type": "code",
        "outputId": "582270cb-c47d-4048-ee33-56ac023c13ac",
        "colab": {
          "base_uri": "https://localhost:8080/",
          "height": 390
        }
      },
      "source": [
        "model3 = keras.models.Sequential([\n",
        "  keras.layers.Conv1D(64, (5), activation='relu', input_shape=(max_length, 1)),\n",
        "  keras.layers.MaxPooling1D(2),\n",
        "  keras.layers.LSTM(int(memory_units/2)),\n",
        "  keras.layers.Dropout(0.2),\n",
        "  keras.layers.Dense(1, activation='sigmoid')\n",
        "])\n",
        "model3.compile(loss='binary_crossentropy', optimizer='adam', metrics=['accuracy'])\n",
        "print(model3.summary())"
      ],
      "execution_count": 0,
      "outputs": [
        {
          "output_type": "stream",
          "text": [
            "WARNING:tensorflow:From /usr/local/lib/python3.6/dist-packages/keras/backend/tensorflow_backend.py:4267: The name tf.nn.max_pool is deprecated. Please use tf.nn.max_pool2d instead.\n",
            "\n",
            "Model: \"sequential_7\"\n",
            "_________________________________________________________________\n",
            "Layer (type)                 Output Shape              Param #   \n",
            "=================================================================\n",
            "conv1d_1 (Conv1D)            (None, 116, 64)           384       \n",
            "_________________________________________________________________\n",
            "max_pooling1d_1 (MaxPooling1 (None, 58, 64)            0         \n",
            "_________________________________________________________________\n",
            "lstm_6 (LSTM)                (None, 32)                12416     \n",
            "_________________________________________________________________\n",
            "dropout_6 (Dropout)          (None, 32)                0         \n",
            "_________________________________________________________________\n",
            "dense_13 (Dense)             (None, 1)                 33        \n",
            "=================================================================\n",
            "Total params: 12,833\n",
            "Trainable params: 12,833\n",
            "Non-trainable params: 0\n",
            "_________________________________________________________________\n",
            "None\n"
          ],
          "name": "stdout"
        }
      ]
    },
    {
      "cell_type": "code",
      "metadata": {
        "id": "655t2VznSDxJ",
        "colab_type": "code",
        "outputId": "9c059501-e510-4e16-8019-c4f4ac08c74f",
        "colab": {
          "base_uri": "https://localhost:8080/",
          "height": 50
        }
      },
      "source": [
        "print(train_padded_sequences.shape)\n",
        "print(test_padded_sequences.shape)"
      ],
      "execution_count": 0,
      "outputs": [
        {
          "output_type": "stream",
          "text": [
            "(556, 120)\n",
            "(139, 120)\n"
          ],
          "name": "stdout"
        }
      ]
    },
    {
      "cell_type": "code",
      "metadata": {
        "id": "fOimNRCdNpK4",
        "colab_type": "code",
        "colab": {}
      },
      "source": [
        "train_padded_sequences_2 = train_padded_sequences.reshape(556, 120, 1)\n",
        "test_padded_sequences_2 = test_padded_sequences.reshape(139, 120, 1)"
      ],
      "execution_count": 0,
      "outputs": []
    },
    {
      "cell_type": "code",
      "metadata": {
        "id": "V7GOCs2F4kBQ",
        "colab_type": "code",
        "outputId": "08ecc6c9-98f8-4b26-dfbc-ef125e54999f",
        "colab": {
          "base_uri": "https://localhost:8080/",
          "height": 1000
        }
      },
      "source": [
        "# training\n",
        "num_epochs = 30\n",
        "history3 = model3.fit(train_padded_sequences_2, train_labels, epochs=num_epochs,\n",
        "                    validation_data=(test_padded_sequences_2, test_labels), batch_size=64, callbacks=[clbk()])"
      ],
      "execution_count": 0,
      "outputs": [
        {
          "output_type": "stream",
          "text": [
            "Train on 556 samples, validate on 139 samples\n",
            "Epoch 1/30\n",
            "556/556 [==============================] - 8s 15ms/step - loss: 0.7487 - acc: 0.5719 - val_loss: 0.7383 - val_acc: 0.5180\n",
            "Epoch 2/30\n",
            "556/556 [==============================] - 1s 2ms/step - loss: 0.6817 - acc: 0.6169 - val_loss: 0.7376 - val_acc: 0.4964\n",
            "Epoch 3/30\n",
            "556/556 [==============================] - 1s 2ms/step - loss: 0.6783 - acc: 0.6223 - val_loss: 0.7239 - val_acc: 0.4820\n",
            "Epoch 4/30\n",
            "556/556 [==============================] - 1s 2ms/step - loss: 0.6660 - acc: 0.6115 - val_loss: 0.7161 - val_acc: 0.4676\n",
            "Epoch 5/30\n",
            "556/556 [==============================] - 1s 2ms/step - loss: 0.6417 - acc: 0.6277 - val_loss: 0.7199 - val_acc: 0.4748\n",
            "Epoch 6/30\n",
            "556/556 [==============================] - 1s 2ms/step - loss: 0.6464 - acc: 0.6313 - val_loss: 0.7158 - val_acc: 0.5252\n",
            "Epoch 7/30\n",
            "556/556 [==============================] - 1s 2ms/step - loss: 0.6358 - acc: 0.6295 - val_loss: 0.7302 - val_acc: 0.5180\n",
            "Epoch 8/30\n",
            "556/556 [==============================] - 1s 2ms/step - loss: 0.6394 - acc: 0.6349 - val_loss: 0.7314 - val_acc: 0.5324\n",
            "Epoch 9/30\n",
            "556/556 [==============================] - 1s 2ms/step - loss: 0.6266 - acc: 0.6529 - val_loss: 0.7024 - val_acc: 0.5540\n",
            "Epoch 10/30\n",
            "556/556 [==============================] - 1s 2ms/step - loss: 0.6280 - acc: 0.6367 - val_loss: 0.7110 - val_acc: 0.5324\n",
            "Epoch 11/30\n",
            "556/556 [==============================] - 1s 2ms/step - loss: 0.6286 - acc: 0.6493 - val_loss: 0.7220 - val_acc: 0.5324\n",
            "Epoch 12/30\n",
            "556/556 [==============================] - 1s 2ms/step - loss: 0.6108 - acc: 0.6691 - val_loss: 0.7083 - val_acc: 0.5180\n",
            "Epoch 13/30\n",
            "556/556 [==============================] - 1s 2ms/step - loss: 0.6193 - acc: 0.6385 - val_loss: 0.7230 - val_acc: 0.5036\n",
            "Epoch 14/30\n",
            "556/556 [==============================] - 1s 2ms/step - loss: 0.6028 - acc: 0.6853 - val_loss: 0.7364 - val_acc: 0.5396\n",
            "Epoch 15/30\n",
            "556/556 [==============================] - 1s 2ms/step - loss: 0.6021 - acc: 0.7014 - val_loss: 0.7101 - val_acc: 0.5180\n",
            "Epoch 16/30\n",
            "556/556 [==============================] - 1s 2ms/step - loss: 0.5939 - acc: 0.7014 - val_loss: 0.7329 - val_acc: 0.5468\n",
            "Epoch 17/30\n",
            "556/556 [==============================] - 1s 2ms/step - loss: 0.5981 - acc: 0.6637 - val_loss: 0.7359 - val_acc: 0.4892\n",
            "Epoch 18/30\n",
            "556/556 [==============================] - 1s 2ms/step - loss: 0.5738 - acc: 0.6888 - val_loss: 0.7530 - val_acc: 0.4892\n",
            "Epoch 19/30\n",
            "556/556 [==============================] - 1s 2ms/step - loss: 0.5874 - acc: 0.6978 - val_loss: 0.8004 - val_acc: 0.5324\n",
            "Epoch 20/30\n",
            "556/556 [==============================] - 1s 2ms/step - loss: 0.5764 - acc: 0.6906 - val_loss: 0.7681 - val_acc: 0.5396\n",
            "Epoch 21/30\n",
            "556/556 [==============================] - 1s 2ms/step - loss: 0.5849 - acc: 0.6924 - val_loss: 0.7480 - val_acc: 0.5108\n",
            "Epoch 22/30\n",
            "556/556 [==============================] - 1s 2ms/step - loss: 0.5953 - acc: 0.6835 - val_loss: 0.7083 - val_acc: 0.5108\n",
            "Epoch 23/30\n",
            "556/556 [==============================] - 1s 2ms/step - loss: 0.5884 - acc: 0.6817 - val_loss: 0.7169 - val_acc: 0.5468\n",
            "Epoch 24/30\n",
            "556/556 [==============================] - 1s 2ms/step - loss: 0.5711 - acc: 0.6888 - val_loss: 0.7262 - val_acc: 0.5324\n",
            "Epoch 25/30\n",
            "556/556 [==============================] - 1s 2ms/step - loss: 0.5663 - acc: 0.6906 - val_loss: 0.7721 - val_acc: 0.4964\n",
            "Epoch 26/30\n",
            "556/556 [==============================] - 1s 2ms/step - loss: 0.5584 - acc: 0.7140 - val_loss: 0.6964 - val_acc: 0.5540\n",
            "Epoch 27/30\n",
            "556/556 [==============================] - 1s 2ms/step - loss: 0.5718 - acc: 0.7068 - val_loss: 0.7409 - val_acc: 0.5468\n",
            "Epoch 28/30\n",
            "556/556 [==============================] - 1s 2ms/step - loss: 0.5702 - acc: 0.6978 - val_loss: 0.7869 - val_acc: 0.5036\n",
            "Epoch 29/30\n",
            "556/556 [==============================] - 1s 2ms/step - loss: 0.5729 - acc: 0.6960 - val_loss: 0.7404 - val_acc: 0.5252\n",
            "Epoch 30/30\n",
            "556/556 [==============================] - 1s 2ms/step - loss: 0.5546 - acc: 0.7320 - val_loss: 0.7222 - val_acc: 0.5108\n"
          ],
          "name": "stdout"
        }
      ]
    },
    {
      "cell_type": "code",
      "metadata": {
        "id": "GMm62jsD4m_R",
        "colab_type": "code",
        "outputId": "0bd59f0a-a916-4353-ecd8-84a41674794f",
        "colab": {
          "base_uri": "https://localhost:8080/",
          "height": 914
        }
      },
      "source": [
        "# Metrics analysis\n",
        "plot_graphs(history3, 'acc')\n",
        "plot_graphs(history3, 'loss')"
      ],
      "execution_count": 0,
      "outputs": [
        {
          "output_type": "display_data",
          "data": {
            "image/png": "[encoded data removed]",
            "text/plain": [
              "<Figure size 432x288 with 1 Axes>"
            ]
          },
          "metadata": {
            "tags": []
          }
        },
        {
          "output_type": "display_data",
          "data": {
            "image/png": "[encoded data removed]",
            "text/plain": [
              "<Figure size 432x288 with 1 Axes>"
            ]
          },
          "metadata": {
            "tags": []
          }
        },
        {
          "output_type": "error",
          "ename": "ValueError",
          "evalue": "ignored",
          "traceback": [
            "\u001b[0;31m---------------------------------------------------------------------------\u001b[0m",
            "\u001b[0;31mValueError\u001b[0m                                Traceback (most recent call last)",
            "\u001b[0;32m<ipython-input-221-61c3e98f2d2e>\u001b[0m in \u001b[0;36m<module>\u001b[0;34m()\u001b[0m\n\u001b[1;32m      1\u001b[0m \u001b[0mplot_graphs\u001b[0m\u001b[0;34m(\u001b[0m\u001b[0mhistory3\u001b[0m\u001b[0;34m,\u001b[0m \u001b[0;34m'acc'\u001b[0m\u001b[0;34m)\u001b[0m\u001b[0;34m\u001b[0m\u001b[0;34m\u001b[0m\u001b[0m\n\u001b[1;32m      2\u001b[0m \u001b[0mplot_graphs\u001b[0m\u001b[0;34m(\u001b[0m\u001b[0mhistory3\u001b[0m\u001b[0;34m,\u001b[0m \u001b[0;34m'loss'\u001b[0m\u001b[0;34m)\u001b[0m\u001b[0;34m\u001b[0m\u001b[0;34m\u001b[0m\u001b[0m\n\u001b[0;32m----> 3\u001b[0;31m \u001b[0mpredicted_labels\u001b[0m \u001b[0;34m=\u001b[0m \u001b[0mmodel3\u001b[0m\u001b[0;34m.\u001b[0m\u001b[0mpredict\u001b[0m\u001b[0;34m(\u001b[0m\u001b[0mtest_padded_sequences\u001b[0m\u001b[0;34m,\u001b[0m \u001b[0mbatch_size\u001b[0m\u001b[0;34m=\u001b[0m\u001b[0;36m10\u001b[0m\u001b[0;34m)\u001b[0m\u001b[0;34m\u001b[0m\u001b[0;34m\u001b[0m\u001b[0m\n\u001b[0m\u001b[1;32m      4\u001b[0m \u001b[0mpredicted_labels_bool\u001b[0m \u001b[0;34m=\u001b[0m \u001b[0mnp\u001b[0m\u001b[0;34m.\u001b[0m\u001b[0margmax\u001b[0m\u001b[0;34m(\u001b[0m\u001b[0mpredicted_labels\u001b[0m\u001b[0;34m,\u001b[0m \u001b[0maxis\u001b[0m\u001b[0;34m=\u001b[0m\u001b[0;36m1\u001b[0m\u001b[0;34m)\u001b[0m\u001b[0;34m\u001b[0m\u001b[0;34m\u001b[0m\u001b[0m\n\u001b[1;32m      5\u001b[0m \u001b[0;34m\u001b[0m\u001b[0m\n",
            "\u001b[0;32m/usr/local/lib/python3.6/dist-packages/keras/engine/training.py\u001b[0m in \u001b[0;36mpredict\u001b[0;34m(self, x, batch_size, verbose, steps, callbacks, max_queue_size, workers, use_multiprocessing)\u001b[0m\n\u001b[1;32m   1378\u001b[0m \u001b[0;34m\u001b[0m\u001b[0m\n\u001b[1;32m   1379\u001b[0m         \u001b[0;31m# Case 2: Symbolic tensors or Numpy array-like.\u001b[0m\u001b[0;34m\u001b[0m\u001b[0;34m\u001b[0m\u001b[0;34m\u001b[0m\u001b[0m\n\u001b[0;32m-> 1380\u001b[0;31m         \u001b[0mx\u001b[0m\u001b[0;34m,\u001b[0m \u001b[0m_\u001b[0m\u001b[0;34m,\u001b[0m \u001b[0m_\u001b[0m \u001b[0;34m=\u001b[0m \u001b[0mself\u001b[0m\u001b[0;34m.\u001b[0m\u001b[0m_standardize_user_data\u001b[0m\u001b[0;34m(\u001b[0m\u001b[0mx\u001b[0m\u001b[0;34m)\u001b[0m\u001b[0;34m\u001b[0m\u001b[0;34m\u001b[0m\u001b[0m\n\u001b[0m\u001b[1;32m   1381\u001b[0m         \u001b[0;32mif\u001b[0m \u001b[0mself\u001b[0m\u001b[0;34m.\u001b[0m\u001b[0mstateful\u001b[0m\u001b[0;34m:\u001b[0m\u001b[0;34m\u001b[0m\u001b[0;34m\u001b[0m\u001b[0m\n\u001b[1;32m   1382\u001b[0m             \u001b[0;32mif\u001b[0m \u001b[0mx\u001b[0m\u001b[0;34m[\u001b[0m\u001b[0;36m0\u001b[0m\u001b[0;34m]\u001b[0m\u001b[0;34m.\u001b[0m\u001b[0mshape\u001b[0m\u001b[0;34m[\u001b[0m\u001b[0;36m0\u001b[0m\u001b[0;34m]\u001b[0m \u001b[0;34m>\u001b[0m \u001b[0mbatch_size\u001b[0m \u001b[0;32mand\u001b[0m \u001b[0mx\u001b[0m\u001b[0;34m[\u001b[0m\u001b[0;36m0\u001b[0m\u001b[0;34m]\u001b[0m\u001b[0;34m.\u001b[0m\u001b[0mshape\u001b[0m\u001b[0;34m[\u001b[0m\u001b[0;36m0\u001b[0m\u001b[0;34m]\u001b[0m \u001b[0;34m%\u001b[0m \u001b[0mbatch_size\u001b[0m \u001b[0;34m!=\u001b[0m \u001b[0;36m0\u001b[0m\u001b[0;34m:\u001b[0m\u001b[0;34m\u001b[0m\u001b[0;34m\u001b[0m\u001b[0m\n",
            "\u001b[0;32m/usr/local/lib/python3.6/dist-packages/keras/engine/training.py\u001b[0m in \u001b[0;36m_standardize_user_data\u001b[0;34m(self, x, y, sample_weight, class_weight, check_array_lengths, batch_size)\u001b[0m\n\u001b[1;32m    755\u001b[0m             \u001b[0mfeed_input_shapes\u001b[0m\u001b[0;34m,\u001b[0m\u001b[0;34m\u001b[0m\u001b[0;34m\u001b[0m\u001b[0m\n\u001b[1;32m    756\u001b[0m             \u001b[0mcheck_batch_axis\u001b[0m\u001b[0;34m=\u001b[0m\u001b[0;32mFalse\u001b[0m\u001b[0;34m,\u001b[0m  \u001b[0;31m# Don't enforce the batch size.\u001b[0m\u001b[0;34m\u001b[0m\u001b[0;34m\u001b[0m\u001b[0m\n\u001b[0;32m--> 757\u001b[0;31m             exception_prefix='input')\n\u001b[0m\u001b[1;32m    758\u001b[0m \u001b[0;34m\u001b[0m\u001b[0m\n\u001b[1;32m    759\u001b[0m         \u001b[0;32mif\u001b[0m \u001b[0my\u001b[0m \u001b[0;32mis\u001b[0m \u001b[0;32mnot\u001b[0m \u001b[0;32mNone\u001b[0m\u001b[0;34m:\u001b[0m\u001b[0;34m\u001b[0m\u001b[0;34m\u001b[0m\u001b[0m\n",
            "\u001b[0;32m/usr/local/lib/python3.6/dist-packages/keras/engine/training_utils.py\u001b[0m in \u001b[0;36mstandardize_input_data\u001b[0;34m(data, names, shapes, check_batch_axis, exception_prefix)\u001b[0m\n\u001b[1;32m    129\u001b[0m                         \u001b[0;34m': expected '\u001b[0m \u001b[0;34m+\u001b[0m \u001b[0mnames\u001b[0m\u001b[0;34m[\u001b[0m\u001b[0mi\u001b[0m\u001b[0;34m]\u001b[0m \u001b[0;34m+\u001b[0m \u001b[0;34m' to have '\u001b[0m \u001b[0;34m+\u001b[0m\u001b[0;34m\u001b[0m\u001b[0;34m\u001b[0m\u001b[0m\n\u001b[1;32m    130\u001b[0m                         \u001b[0mstr\u001b[0m\u001b[0;34m(\u001b[0m\u001b[0mlen\u001b[0m\u001b[0;34m(\u001b[0m\u001b[0mshape\u001b[0m\u001b[0;34m)\u001b[0m\u001b[0;34m)\u001b[0m \u001b[0;34m+\u001b[0m \u001b[0;34m' dimensions, but got array '\u001b[0m\u001b[0;34m\u001b[0m\u001b[0;34m\u001b[0m\u001b[0m\n\u001b[0;32m--> 131\u001b[0;31m                         'with shape ' + str(data_shape))\n\u001b[0m\u001b[1;32m    132\u001b[0m                 \u001b[0;32mif\u001b[0m \u001b[0;32mnot\u001b[0m \u001b[0mcheck_batch_axis\u001b[0m\u001b[0;34m:\u001b[0m\u001b[0;34m\u001b[0m\u001b[0;34m\u001b[0m\u001b[0m\n\u001b[1;32m    133\u001b[0m                     \u001b[0mdata_shape\u001b[0m \u001b[0;34m=\u001b[0m \u001b[0mdata_shape\u001b[0m\u001b[0;34m[\u001b[0m\u001b[0;36m1\u001b[0m\u001b[0;34m:\u001b[0m\u001b[0;34m]\u001b[0m\u001b[0;34m\u001b[0m\u001b[0;34m\u001b[0m\u001b[0m\n",
            "\u001b[0;31mValueError\u001b[0m: Error when checking input: expected conv1d_5_input to have 3 dimensions, but got array with shape (139, 120)"
          ]
        }
      ]
    },
    {
      "cell_type": "code",
      "metadata": {
        "id": "tEW-wHfAuegp",
        "colab_type": "code",
        "outputId": "060f9fc2-19f1-42f0-bfba-6f770e503fac",
        "colab": {
          "base_uri": "https://localhost:8080/",
          "height": 34
        }
      },
      "source": [
        "vocab_size = 1000\n",
        "max_length2 = 150\n",
        "\n",
        "train_sentences2 = [' '.join([word for word in sentence.split(' ') if word.strip() not in stopwords]) for sentence in train_sentences]\n",
        "test_sentences2 = [' '.join([word for word in sentence.split(' ') if word.strip() not in stopwords]) for sentence in test_sentences]\n",
        "\n",
        "tokenizer2 = Tokenizer(num_words=vocab_size, oov_token=oov_tok)\n",
        "\n",
        "tokenizer2.fit_on_texts(train_sentences2)\n",
        "word_index = tokenizer2.word_index\n",
        "print(len(word_index))\n",
        "\n",
        "train_sequences2 = tokenizer.texts_to_sequences(train_sentences2)\n",
        "train_padded_sequences2 = pad_sequences(train_sequences2, maxlen=max_length2,\n",
        "  padding=padding_type, truncating=trunc_type)"
      ],
      "execution_count": 0,
      "outputs": [
        {
          "output_type": "stream",
          "text": [
            "7928\n"
          ],
          "name": "stdout"
        }
      ]
    },
    {
      "cell_type": "code",
      "metadata": {
        "id": "0XNneP1XuptX",
        "colab_type": "code",
        "colab": {}
      },
      "source": [
        "test_sequences2 = tokenizer.texts_to_sequences(test_sentences2)\n",
        "test_padded_sequences2 = pad_sequences(test_sequences2, maxlen=max_length2,\n",
        "  padding=padding_type, truncating=trunc_type)"
      ],
      "execution_count": 0,
      "outputs": []
    },
    {
      "cell_type": "code",
      "metadata": {
        "id": "fzxJcp9quU-C",
        "colab_type": "code",
        "outputId": "c52eacc3-7851-4bac-9f9d-0d82374c1ace",
        "colab": {
          "base_uri": "https://localhost:8080/",
          "height": 403
        }
      },
      "source": [
        "# hyperparametes\n",
        "embedding_dim_2 = 64\n",
        "memory_units = 64\n",
        "dense_units = 32\n",
        "dropout_rate = 0.2\n",
        "\n",
        "model4 = keras.Sequential([\n",
        "  keras.layers.Embedding(vocab_size, embedding_dim_2, input_length=max_length2),\n",
        "  keras.layers.Dropout(dropout_rate),\n",
        "  keras.layers.LSTM(memory_units),\n",
        "  keras.layers.Dropout(dropout_rate),\n",
        "  keras.layers.Dense(dense_units, activation='relu'),\n",
        "  keras.layers.Dropout(dropout_rate),\n",
        "  keras.layers.Dense(1, activation='sigmoid')\n",
        "])\n",
        "model4.compile(loss='binary_crossentropy', optimizer='adam', metrics=['accuracy'])\n",
        "print(model4.summary())"
      ],
      "execution_count": 0,
      "outputs": [
        {
          "output_type": "stream",
          "text": [
            "Model: \"sequential_4\"\n",
            "_________________________________________________________________\n",
            "Layer (type)                 Output Shape              Param #   \n",
            "=================================================================\n",
            "embedding_4 (Embedding)      (None, 150, 64)           64000     \n",
            "_________________________________________________________________\n",
            "dropout_6 (Dropout)          (None, 150, 64)           0         \n",
            "_________________________________________________________________\n",
            "lstm_4 (LSTM)                (None, 64)                33024     \n",
            "_________________________________________________________________\n",
            "dropout_7 (Dropout)          (None, 64)                0         \n",
            "_________________________________________________________________\n",
            "dense_7 (Dense)              (None, 32)                2080      \n",
            "_________________________________________________________________\n",
            "dropout_8 (Dropout)          (None, 32)                0         \n",
            "_________________________________________________________________\n",
            "dense_8 (Dense)              (None, 1)                 33        \n",
            "=================================================================\n",
            "Total params: 99,137\n",
            "Trainable params: 99,137\n",
            "Non-trainable params: 0\n",
            "_________________________________________________________________\n",
            "None\n"
          ],
          "name": "stdout"
        }
      ]
    },
    {
      "cell_type": "code",
      "metadata": {
        "id": "XRwsDgh-vAtx",
        "colab_type": "code",
        "outputId": "ce1d132c-0fe7-4bfb-faa5-085d0dae5880",
        "colab": {
          "base_uri": "https://localhost:8080/",
          "height": 1000
        }
      },
      "source": [
        "# training\n",
        "session=tf.Session()\n",
        "with session.as_default():\n",
        "    with session.graph.as_default():\n",
        "      num_epochs = 30\n",
        "      history4 = model4.fit(train_padded_sequences2, train_labels, epochs=num_epochs,\n",
        "                    validation_data=(test_padded_sequences2, test_labels), batch_size=64, callbacks=[clbk()])"
      ],
      "execution_count": 0,
      "outputs": [
        {
          "output_type": "stream",
          "text": [
            "Train on 556 samples, validate on 139 samples\n",
            "Epoch 1/30\n",
            "556/556 [==============================] - 4s 7ms/step - loss: 0.6920 - acc: 0.5216 - val_loss: 0.6961 - val_acc: 0.4748\n",
            "Epoch 2/30\n",
            "556/556 [==============================] - 2s 4ms/step - loss: 0.6933 - acc: 0.5216 - val_loss: 0.6993 - val_acc: 0.4748\n",
            "Epoch 3/30\n",
            "556/556 [==============================] - 3s 6ms/step - loss: 0.6915 - acc: 0.5216 - val_loss: 0.6968 - val_acc: 0.4748\n",
            "Epoch 4/30\n",
            "556/556 [==============================] - 3s 5ms/step - loss: 0.6912 - acc: 0.5360 - val_loss: 0.6963 - val_acc: 0.4748\n",
            "Epoch 5/30\n",
            "556/556 [==============================] - 3s 5ms/step - loss: 0.6888 - acc: 0.5522 - val_loss: 0.6976 - val_acc: 0.4676\n",
            "Epoch 6/30\n",
            "556/556 [==============================] - 2s 4ms/step - loss: 0.6869 - acc: 0.5809 - val_loss: 0.6994 - val_acc: 0.4676\n",
            "Epoch 7/30\n",
            "556/556 [==============================] - 3s 5ms/step - loss: 0.6811 - acc: 0.6097 - val_loss: 0.7000 - val_acc: 0.4532\n",
            "Epoch 8/30\n",
            "556/556 [==============================] - 3s 5ms/step - loss: 0.6619 - acc: 0.6349 - val_loss: 0.6329 - val_acc: 0.6547\n",
            "Epoch 9/30\n",
            "556/556 [==============================] - 2s 4ms/step - loss: 0.5979 - acc: 0.6978 - val_loss: 0.9699 - val_acc: 0.5396\n",
            "Epoch 10/30\n",
            "556/556 [==============================] - 3s 5ms/step - loss: 0.6241 - acc: 0.7176 - val_loss: 0.6223 - val_acc: 0.6906\n",
            "Epoch 11/30\n",
            "556/556 [==============================] - 3s 5ms/step - loss: 0.6070 - acc: 0.7104 - val_loss: 0.6165 - val_acc: 0.6978\n",
            "Epoch 12/30\n",
            "556/556 [==============================] - 2s 4ms/step - loss: 0.6003 - acc: 0.6637 - val_loss: 0.6170 - val_acc: 0.7194\n",
            "Epoch 13/30\n",
            "556/556 [==============================] - 3s 5ms/step - loss: 0.5994 - acc: 0.6727 - val_loss: 0.7475 - val_acc: 0.6906\n",
            "Epoch 14/30\n",
            "556/556 [==============================] - 3s 5ms/step - loss: 0.7063 - acc: 0.7158 - val_loss: 0.9048 - val_acc: 0.5827\n",
            "Epoch 15/30\n",
            "556/556 [==============================] - 3s 5ms/step - loss: 0.6724 - acc: 0.6547 - val_loss: 0.6836 - val_acc: 0.5324\n",
            "Epoch 16/30\n",
            "556/556 [==============================] - 3s 5ms/step - loss: 0.6547 - acc: 0.5881 - val_loss: 0.6671 - val_acc: 0.5396\n",
            "Epoch 17/30\n",
            "556/556 [==============================] - 2s 4ms/step - loss: 0.6518 - acc: 0.5953 - val_loss: 0.6914 - val_acc: 0.5180\n",
            "Epoch 18/30\n",
            "556/556 [==============================] - 2s 4ms/step - loss: 0.6568 - acc: 0.6187 - val_loss: 0.6995 - val_acc: 0.5180\n",
            "Epoch 19/30\n",
            "556/556 [==============================] - 3s 5ms/step - loss: 0.6505 - acc: 0.5827 - val_loss: 0.6817 - val_acc: 0.5180\n",
            "Epoch 20/30\n",
            "556/556 [==============================] - 2s 4ms/step - loss: 0.6533 - acc: 0.5971 - val_loss: 0.6864 - val_acc: 0.5180\n",
            "Epoch 21/30\n",
            "556/556 [==============================] - 3s 5ms/step - loss: 0.6517 - acc: 0.5899 - val_loss: 0.6896 - val_acc: 0.5180\n",
            "Epoch 22/30\n",
            "556/556 [==============================] - 2s 4ms/step - loss: 0.6589 - acc: 0.5881 - val_loss: 0.6823 - val_acc: 0.5180\n",
            "Epoch 23/30\n",
            "556/556 [==============================] - 2s 4ms/step - loss: 0.6347 - acc: 0.6187 - val_loss: 0.6831 - val_acc: 0.5180\n",
            "Epoch 24/30\n",
            "556/556 [==============================] - 3s 5ms/step - loss: 0.6582 - acc: 0.5809 - val_loss: 0.6805 - val_acc: 0.5180\n",
            "Epoch 25/30\n",
            "556/556 [==============================] - 3s 5ms/step - loss: 0.6554 - acc: 0.6115 - val_loss: 0.6824 - val_acc: 0.5180\n",
            "Epoch 26/30\n",
            "556/556 [==============================] - 3s 5ms/step - loss: 0.6574 - acc: 0.6025 - val_loss: 0.6840 - val_acc: 0.5180\n",
            "Epoch 27/30\n",
            "556/556 [==============================] - 3s 5ms/step - loss: 0.6637 - acc: 0.6025 - val_loss: 0.6846 - val_acc: 0.5180\n",
            "Epoch 28/30\n",
            "556/556 [==============================] - 3s 5ms/step - loss: 0.6581 - acc: 0.6007 - val_loss: 0.6883 - val_acc: 0.5180\n",
            "Epoch 29/30\n",
            "556/556 [==============================] - 3s 5ms/step - loss: 0.6530 - acc: 0.5971 - val_loss: 0.6804 - val_acc: 0.5180\n",
            "Epoch 30/30\n",
            "556/556 [==============================] - 3s 5ms/step - loss: 0.6483 - acc: 0.6007 - val_loss: 0.6751 - val_acc: 0.5324\n"
          ],
          "name": "stdout"
        }
      ]
    },
    {
      "cell_type": "code",
      "metadata": {
        "id": "ng088UJuvBSx",
        "colab_type": "code",
        "outputId": "d272a1f6-4a75-4cb7-de55-cd46596bcf60",
        "colab": {
          "base_uri": "https://localhost:8080/",
          "height": 178
        }
      },
      "source": [
        "# Metrics analysis\n",
        "plot_graphs(history2, 'acc')\n",
        "plot_graphs(history2, 'loss')"
      ],
      "execution_count": 0,
      "outputs": [
        {
          "output_type": "error",
          "ename": "NameError",
          "evalue": "ignored",
          "traceback": [
            "\u001b[0;31m---------------------------------------------------------------------------\u001b[0m",
            "\u001b[0;31mNameError\u001b[0m                                 Traceback (most recent call last)",
            "\u001b[0;32m<ipython-input-47-d09c4c00a6ea>\u001b[0m in \u001b[0;36m<module>\u001b[0;34m()\u001b[0m\n\u001b[0;32m----> 1\u001b[0;31m \u001b[0mplot_graphs\u001b[0m\u001b[0;34m(\u001b[0m\u001b[0mhistory2\u001b[0m\u001b[0;34m,\u001b[0m \u001b[0;34m'acc'\u001b[0m\u001b[0;34m)\u001b[0m\u001b[0;34m\u001b[0m\u001b[0;34m\u001b[0m\u001b[0m\n\u001b[0m\u001b[1;32m      2\u001b[0m \u001b[0mplot_graphs\u001b[0m\u001b[0;34m(\u001b[0m\u001b[0mhistory2\u001b[0m\u001b[0;34m,\u001b[0m \u001b[0;34m'loss'\u001b[0m\u001b[0;34m)\u001b[0m\u001b[0;34m\u001b[0m\u001b[0;34m\u001b[0m\u001b[0m\n",
            "\u001b[0;31mNameError\u001b[0m: name 'plot_graphs' is not defined"
          ]
        }
      ]
    },
    {
      "cell_type": "code",
      "metadata": {
        "id": "uOrD4LSxvIWr",
        "colab_type": "code",
        "colab": {}
      },
      "source": [
        ""
      ],
      "execution_count": 0,
      "outputs": []
    }
  ]
}